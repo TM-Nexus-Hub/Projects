{
  "nbformat": 4,
  "nbformat_minor": 0,
  "metadata": {
    "colab": {
      "provenance": []
    },
    "kernelspec": {
      "name": "python3",
      "display_name": "Python 3"
    },
    "language_info": {
      "name": "python"
    }
  },
  "cells": [
    {
      "cell_type": "markdown",
      "source": [
        "## Import Libraries"
      ],
      "metadata": {
        "id": "9FucolFilUm_"
      }
    },
    {
      "cell_type": "code",
      "execution_count": null,
      "metadata": {
        "id": "jcDtjOTUkVTW"
      },
      "outputs": [],
      "source": [
        "import google.generativeai as genai"
      ]
    },
    {
      "cell_type": "markdown",
      "source": [
        "## Configure API Key\n",
        "\n",
        "```\n",
        "Replace with your own API Key\n",
        "```"
      ],
      "metadata": {
        "id": "h1V6_U5BlwMM"
      }
    },
    {
      "cell_type": "code",
      "source": [
        "api_key = \"Replace with your api\"\n",
        "genai.configure(api_key=api_key)"
      ],
      "metadata": {
        "id": "TzbmOS_hkcG3"
      },
      "execution_count": null,
      "outputs": []
    },
    {
      "cell_type": "markdown",
      "source": [
        "## Define Model\n",
        "```\n",
        "Replace the system instruction as the character of chatbot\n",
        "```\n",
        "\n",
        "---\n",
        "\n",
        "<p>\n",
        "<li>Your are Kevin, a friendly Principal of AV group of institution, your are develop for clarify user doubts regarding your inistitution. Dont answer any other question which not related to your institution, and just say Sorry i can't help with that\n",
        "</p>"
      ],
      "metadata": {
        "id": "G3iG1cjRl1mu"
      }
    },
    {
      "cell_type": "code",
      "source": [
        "def create_model():\n",
        "  generation_config = {\n",
        "  \"temperature\": 0.5, #you can adjust the value between 0.1 and 1 [0.1 = logical thinking, 1 = creative thinking , 0.5 = balanced thinking]\n",
        "  \"top_p\": 0.95,\n",
        "  \"top_k\": 64,\n",
        "  \"max_output_tokens\": 1000\n",
        "  }\n",
        "  system_instruction = (\n",
        "      \"Enter the character of chabot.\"\n",
        "      )\n",
        "  model = genai.GenerativeModel(\n",
        "  model_name=\"gemini-1.5-flash\",\n",
        "  generation_config=generation_config,\n",
        "  system_instruction=system_instruction\n",
        "  )\n",
        "  return model"
      ],
      "metadata": {
        "id": "7wyvIwK7khiH"
      },
      "execution_count": null,
      "outputs": []
    },
    {
      "cell_type": "markdown",
      "source": [
        "## Initialize Model and Chats"
      ],
      "metadata": {
        "id": "oVBrYQigmEGa"
      }
    },
    {
      "cell_type": "code",
      "source": [
        "model = create_model()\n",
        "chat = model.start_chat(\n",
        "    history=[]\n",
        "    )"
      ],
      "metadata": {
        "id": "8AsejRppmDM0"
      },
      "execution_count": null,
      "outputs": []
    },
    {
      "cell_type": "markdown",
      "source": [
        "## Run The app"
      ],
      "metadata": {
        "id": "r2pUGGmexkfs"
      }
    },
    {
      "cell_type": "code",
      "source": [
        "\n",
        "print(\"🤖 Welcome to Friendly Assistant Terminal Chat! (type 'exit' to quit)\")\n",
        "while True:\n",
        "  user_input = input(\"You: \").strip()\n",
        "  if user_input.lower() == 'exit':\n",
        "    print(\"👋 Goodbye!\")\n",
        "    break\n",
        "  response = chat.send_message(user_input)\n",
        "  print(f\"\\nAI:\\n{response.text.strip()}\\n\")\n"
      ],
      "metadata": {
        "id": "B8TpBfhGk9Or"
      },
      "execution_count": null,
      "outputs": []
    }
  ]
}